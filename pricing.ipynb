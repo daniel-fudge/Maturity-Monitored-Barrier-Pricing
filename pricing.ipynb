{
 "cells": [
  {
   "cell_type": "markdown",
   "metadata": {},
   "source": [
    "# Pricing of Maturity Monitored Barrier Security\n",
    "\n",
    "This notebook prices the _\"NBC Auto Callable Contingent Memory Income Note\"_ described in this [link](https://nbcstructuredsolutions.ca/detailProduit.aspx?lequel=5317#documents).  This note is referred to as the _\"security\"_ for the remainder of this Notebook. \n",
    "\n",
    "This will be accomplished by first creating a function to generate the payout of the security if given the return of the underlying asset, which is the _Shares® Core S&P 500 Index ETF (CAD-Hedged)_.   This asset is referred to the _\"ETF\"_ for the remainder of the Notebook.\n",
    "\n",
    "With this function defined we estimate the volatility of the ETF and then perform a Monte Carlo simulation of the ETF performance and the resulting security payout.  With the population of payout profiles we can estimate the fair price of the security."
   ]
  },
  {
   "cell_type": "markdown",
   "metadata": {},
   "source": [
    "## 1. Create the security payout function"
   ]
  },
  {
   "cell_type": "markdown",
   "metadata": {},
   "source": [
    "#### Import some necessary modules."
   ]
  },
  {
   "cell_type": "code",
   "execution_count": 1,
   "metadata": {},
   "outputs": [],
   "source": [
    "import matplotlib.pyplot as plt\n",
    "import numpy as np\n",
    "import os\n",
    "import pandas as pd\n",
    "import seaborn as sns\n",
    "\n",
    "%matplotlib inline"
   ]
  },
  {
   "cell_type": "markdown",
   "metadata": {},
   "source": [
    "#### Define some variables"
   ]
  },
  {
   "cell_type": "code",
   "execution_count": 2,
   "metadata": {},
   "outputs": [],
   "source": [
    "barrier = -0.25      # Maturity-monitored barrier\n",
    "coupon = 5.75 / 2    # Semi-annual coupon payment\n",
    "call_threshold = 0.1 # Call threshold\n",
    "face_value = 100     # Face value of the security\n",
    "pf = 0.0             # Participation Factor\n",
    "deferred_ppf = 0.05  # Deferred payment participation factor\n",
    "current_ppf = 0.01   # Current payment participation factor\n",
    "vrt = 0.0            # Variable return threshold\n",
    "\n",
    "paydays = pd.to_datetime(['2020-08-18', '2021-02-18',\n",
    "                          '2021-08-18', '2022-02-17',\n",
    "                          '2022-08-18', '2023-02-17',\n",
    "                          '2023-08-18', '2024-02-16',\n",
    "                          '2024-08-19', '2025-02-18',\n",
    "                          '2025-08-18', '2026-02-18',\n",
    "                          '2026-08-18', '2027-02-18', '2027-02-25'], \n",
    "                           infer_datetime_format=True)"
   ]
  },
  {
   "cell_type": "markdown",
   "metadata": {},
   "source": [
    "#### Calculate the discount factors for February 25 and March 3, 2020\n",
    "\n",
    "**_TODO:_**  This assumes a constant risk-free rate based on the 1-Year Canadian Tressury Bill yeild of 1.04%.  We need to extract the full yield curve for February 25 and March 3, 2020."
   ]
  },
  {
   "cell_type": "code",
   "execution_count": 36,
   "metadata": {},
   "outputs": [],
   "source": [
    "t_feb = (paydays - pd.to_datetime('2020-02-25', infer_datetime_format=True)).days.values / 365.2425\n",
    "t_mar = (paydays - pd.to_datetime('2020-03-3', infer_datetime_format=True)).days.values / 365.2425\n",
    "\n",
    "risk_free = 0.0104\n",
    "z_feb = np.power(1 + 0.5*risk_free, -2*t_feb).reshape((1, -1))\n",
    "z_mar = np.power(1 + 0.5*risk_free, -2*t_mar).reshape((1, -1))"
   ]
  },
  {
   "cell_type": "markdown",
   "metadata": {},
   "source": [
    "#### Test the payout function with the examples given in this [link](https://nbcstructuredsolutions.ca/_afficheDocument.aspx?doc=05317_EN_CLIENT_SUMMARY.pdf&secur=0&rnd=0.01401764)."
   ]
  },
  {
   "cell_type": "code",
   "execution_count": 40,
   "metadata": {},
   "outputs": [
    {
     "name": "stdout",
     "output_type": "stream",
     "text": [
      "Sample Returns:\n",
      "[[-0.09  -0.05  -0.05  -0.1  ]\n",
      " [-0.41  -0.03  -0.1   -0.14 ]\n",
      " [-0.12   0.06  -0.07  -0.04 ]\n",
      " [-0.42  -0.1   -0.135 -0.13 ]\n",
      " [-0.46  -0.41  -0.46  -0.11 ]\n",
      " [-0.48  -0.46  -0.5    0.25 ]\n",
      " [-0.465 -0.41  -0.47   0.01 ]\n",
      " [-0.5   -0.09  -0.465  0.5  ]\n",
      " [-0.47  -0.2   -0.47  -0.4  ]\n",
      " [-0.455 -0.49  -0.42  -0.6  ]\n",
      " [-0.47  -0.455 -0.44  -0.05 ]\n",
      " [-0.43  -0.44  -0.14   0.05 ]\n",
      " [-0.49  -0.415 -0.04   0.95 ]\n",
      " [-0.5   -0.15   0.35   0.05 ]]\n",
      "\n",
      "Expected Payout:\n",
      "[[  2.875   2.875   2.875   2.875]\n",
      " [  0.      2.875   2.875   2.875]\n",
      " [  6.4     2.935   2.875   2.875]\n",
      " [  0.      2.875   2.875   2.875]\n",
      " [  0.      0.      0.      2.875]\n",
      " [  0.      0.      0.    103.125]\n",
      " [  0.      0.      0.      0.   ]\n",
      " [  0.     12.3     0.      0.   ]\n",
      " [  0.      2.875   0.      0.   ]\n",
      " [  0.      0.      0.      0.   ]\n",
      " [  0.      0.      0.      0.   ]\n",
      " [  0.      0.     23.55    0.   ]\n",
      " [  0.      0.      2.875   0.   ]\n",
      " [  0.     14.875 103.225   0.   ]\n",
      " [ 50.    100.      0.      0.   ]]\n"
     ]
    }
   ],
   "source": [
    "sample_returns = np.array([[ -9, -41, -12, -42,   -46, -48, -46.5, -50,   -47, -45.5, -47,   -43, -49,   -50],\n",
    "                           [ -5,  -3,   6, -10,   -41, -46, -41,    -9,   -20, -49,   -45.5, -44, -41.5, -15],\n",
    "                           [ -5, -10,  -7, -13.5, -46, -50, -47,   -46.5, -47, -42,   -44,   -14,  -4,    35],\n",
    "                           [-10, -14,  -4, -13,   -11,  25,   1,    50,   -40, -60,    -5,     5,  95,     5]]).T/100.0\n",
    "\n",
    "expected_payout = np.zeros((sample_returns.shape[0] + 1, sample_returns.shape[1]))\n",
    "expected_payout[0, 0] = 2.875\n",
    "expected_payout[2, 0] = 6.40\n",
    "expected_payout[-1, 0] = 50\n",
    "\n",
    "expected_payout[[0, 1, 3, 8], 1] = 2.875\n",
    "expected_payout[2, 1] = 2.935\n",
    "expected_payout[7, 1] = 12.3\n",
    "expected_payout[-2, 1] = 14.875\n",
    "expected_payout[-1, 1] = 100\n",
    "\n",
    "expected_payout[[0, 1, 2, 3, -3], 2] = 2.875\n",
    "expected_payout[-4, 2] = 23.55\n",
    "expected_payout[-2, 2] = 3.225 + 100\n",
    "\n",
    "expected_payout[0:5, 3] = 2.875\n",
    "expected_payout[5, 3] = 3.125 + 100\n",
    "\n",
    "print('Sample Returns:')\n",
    "print(sample_returns)\n",
    "print('\\nExpected Payout:')\n",
    "print(expected_payout)\n"
   ]
  },
  {
   "cell_type": "markdown",
   "metadata": {},
   "source": [
    "#### Define the payout function"
   ]
  },
  {
   "cell_type": "code",
   "execution_count": 90,
   "metadata": {},
   "outputs": [
    {
     "name": "stdout",
     "output_type": "stream",
     "text": [
      "Exact match with test set!!\n",
      "\n",
      "Risk-free of 6.610% gives 0.152% max delta\n",
      "[[-7.04794695  5.09188846  4.90587271  5.53356034]]\n"
     ]
    }
   ],
   "source": [
    "def payout(returns, z):\n",
    "    \"\"\"\n",
    "    Args:\n",
    "        returns (np.array):  [n_dates, n_simulations] The ETF returns.\n",
    "        z (np.array):  [1, n_dates + 1] Discount factors to be applied to the payout.\n",
    "        \n",
    "    Returns:\n",
    "        np.array:  [n_dates + 1, n_simulations]  Payouts for valuation dates and maturity.\n",
    "        np.array:  [n_simulations]  The present value of the payouts\n",
    "    \"\"\"\n",
    "    n_dates = returns.shape[0]\n",
    "    n_sims = returns.shape[1]\n",
    "\n",
    "    # Determine the returns that are above the barrier (hits)\n",
    "    hits = returns >= barrier\n",
    "    miss = np.logical_not(hits)\n",
    "    \n",
    "    # Calculate the memory\n",
    "    memory = np.zeros_like(returns)\n",
    "    for i in range(1, n_dates):\n",
    "        memory[i, :] = (memory[i - 1, :] + 1) * miss[i - 1, :]\n",
    "    \n",
    "    # Calculate deferred payment variable return if memory > 0\n",
    "    deferred = (face_value * (returns - barrier) * deferred_ppf) * (memory > 0)\n",
    "    \n",
    "    # Calculate the Current Payment Variable Return\n",
    "    variable = face_value * np.clip(returns - vrt, a_min=0.0, a_max=None) * current_ppf\n",
    "\n",
    "    # Calculate the total coupon payment\n",
    "    coupons = hits * (coupon * (memory + 1) + deferred) + variable\n",
    "    del deferred, variable\n",
    "    \n",
    "    # Move all coupons upto call limit has been achieved to the payout array\n",
    "    # Dummy created so argmax returns the size of the array if limit not volated\n",
    "    payout = np.zeros((n_dates + 1, n_sims))\n",
    "    dummy = np.vstack((returns, np.ones((1, n_sims)) * (call_threshold + 1)))\n",
    "    hit_limit = np.argmax(dummy > call_threshold, axis=0) + 1\n",
    "    del dummy\n",
    "    for i in range(n_sims):\n",
    "        h = min(hit_limit[i], n_dates)\n",
    "        payout[:h, i] = coupons[:h, i]\n",
    "    del coupons\n",
    "    \n",
    "    # Add the maturity Redemption Payment\n",
    "    limit1 = min(call_threshold, 0.0)\n",
    "    hit_limit -= 1\n",
    "    for i in range(n_sims):\n",
    "        if hit_limit[i] < n_dates:\n",
    "            maturity_date_index = hit_limit[i]\n",
    "            r = returns[hit_limit[i], i] \n",
    "        else:\n",
    "            maturity_date_index = n_dates\n",
    "            r = returns[-1, i] \n",
    "\n",
    "        if r > limit1:\n",
    "            payout[maturity_date_index, i] = payout[maturity_date_index, i] + face_value * (1 + vrt)\n",
    "        elif r >= barrier:\n",
    "            payout[maturity_date_index, i] = payout[maturity_date_index, i] + face_value\n",
    "        else:\n",
    "            payout[maturity_date_index, i] = payout[maturity_date_index, i] + face_value * (1 + r)\n",
    "    \n",
    "    # Calculate present value of each simulation\n",
    "    pv = z.dot(payout)\n",
    "    \n",
    "    return payout, pv\n",
    "\n",
    "# Run test\n",
    "p, pv_feb = payout(sample_returns, z_feb)\n",
    "if np.max(np.abs(p - expected_payout)) > 0:\n",
    "    print(\"Coupon error detected in test set.\")\n",
    "    print(c - expected_payout)\n",
    "else:\n",
    "    print(\"Exact match with test set!!\")\n",
    "\n",
    "print(\"\\nRisk-free of {:.3f}% gives {:.3f}% max delta\".format(rf*100, r_delta))\n",
    "print(r)\n"
   ]
  },
  {
   "cell_type": "code",
   "execution_count": null,
   "metadata": {},
   "outputs": [],
   "source": []
  }
 ],
 "metadata": {
  "kernelspec": {
   "display_name": "mmbp",
   "language": "python",
   "name": "mmbp"
  },
  "language_info": {
   "codemirror_mode": {
    "name": "ipython",
    "version": 3
   },
   "file_extension": ".py",
   "mimetype": "text/x-python",
   "name": "python",
   "nbconvert_exporter": "python",
   "pygments_lexer": "ipython3",
   "version": "3.8.1"
  }
 },
 "nbformat": 4,
 "nbformat_minor": 1
}
